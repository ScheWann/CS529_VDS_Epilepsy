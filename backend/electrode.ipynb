{
 "cells": [
  {
   "cell_type": "code",
   "execution_count": 1,
   "metadata": {},
   "outputs": [],
   "source": [
    "import pandas as pd\n",
    "import numpy as np\n",
    "import csv as csv\n",
    "import re"
   ]
  },
  {
   "cell_type": "code",
   "execution_count": 4,
   "metadata": {},
   "outputs": [],
   "source": [
    "# ep129 electrode file E_Brain remove numbers\n",
    "def remove_numbers(s):\n",
    "    return re.sub(r'\\d+', '', s)\n",
    "\n",
    "# Read the CSV file\n",
    "df = pd.read_csv(\"/Users/siyuanzhao/Documents/GitHub/CS529_VDS_Epilepsy/frontend/src/data/electrodes/ep129/ep129_rois_kmeans.csv\")  # Replace 'your_file.csv' with your file name\n",
    "\n",
    "# Apply the function to the 'E-Brain' column\n",
    "df['E_Brain'] = df['E_Brain'].apply(remove_numbers)\n",
    "\n",
    "# Save the modified DataFrame to a new CSV file\n",
    "df.to_csv('ep129_electrodes_2024.csv', index=False) "
   ]
  },
  {
   "cell_type": "code",
   "execution_count": 5,
   "metadata": {},
   "outputs": [],
   "source": [
    "# ep129 electrode file E_Brain remove numbers\n",
    "def remove_numbers(s):\n",
    "    return re.sub(r'\\d+', '', s)\n",
    "\n",
    "# Read the CSV file\n",
    "df = pd.read_csv(\"/Users/siyuanzhao/Documents/GitHub/CS529_VDS_Epilepsy/frontend/src/data/electrodes/ep187/ep187_rois_kmeans.csv\")  # Replace 'your_file.csv' with your file name\n",
    "\n",
    "# Apply the function to the 'E-Brain' column\n",
    "df['E_Brain'] = df['E_Brain'].apply(remove_numbers)\n",
    "\n",
    "# Save the modified DataFrame to a new CSV file\n",
    "df.to_csv('ep187_electrodes_2024.csv', index=False) "
   ]
  }
 ],
 "metadata": {
  "kernelspec": {
   "display_name": "VDS",
   "language": "python",
   "name": "python3"
  },
  "language_info": {
   "codemirror_mode": {
    "name": "ipython",
    "version": 3
   },
   "file_extension": ".py",
   "mimetype": "text/x-python",
   "name": "python",
   "nbconvert_exporter": "python",
   "pygments_lexer": "ipython3",
   "version": "3.10.13"
  }
 },
 "nbformat": 4,
 "nbformat_minor": 2
}
