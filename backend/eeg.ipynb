{
 "cells": [
  {
   "cell_type": "code",
   "execution_count": 17,
   "metadata": {},
   "outputs": [],
   "source": [
    "import pandas as pd\n",
    "import numpy as np\n",
    "import json"
   ]
  },
  {
   "cell_type": "code",
   "execution_count": 18,
   "metadata": {},
   "outputs": [],
   "source": [
    "in_df = pd.read_parquet(\n",
    "    \"/Users/siyuanzhao/Documents/DATADIR/patients/ep129/sample1/eegdb.parquet\",\n",
    "    engine=\"pyarrow\",\n",
    ")\n",
    "\n",
    "electrodes = 26,28,36,20,32,21,22,40,41,54,19,31,39,47,48,52,56,27,29,34,35,43,49,50,53,18,33,44,30,38,51,37,108,109,107,102,112,55,45,23,103,73,74,76,75,84,89\n",
    "eeg_data_df_filtered = in_df[\n",
    "    (in_df[\"electrode\"].isin(electrodes))\n",
    "    & (in_df[\"ms\"] >= 0)\n",
    "    & (in_df[\"ms\"] <= 500)\n",
    "]\n",
    "output = {}\n",
    "for electode in electrodes:\n",
    "    output[electode] = eeg_data_df_filtered.loc[\n",
    "        eeg_data_df_filtered.electrode == electode\n",
    "    ].value.values.tolist()\n",
    "\n",
    "with open('ep129_sample1_0_500_egg.json', 'w') as f:\n",
    "    json.dump(output, f)"
   ]
  },
  {
   "cell_type": "code",
   "execution_count": 9,
   "metadata": {},
   "outputs": [],
   "source": [
    "propogation_df = pd.read_json(\n",
    "    \"/Users/siyuanzhao/Documents/DATADIR/patients/ep129/sample1/ep129_sorted_data.json\"\n",
    ")\n",
    "propogation_test_df = propogation_df[propogation_df[\"eventIndex\"] == 1]\n",
    "# save ep129, sample1, event 1 electrode propagation json to local\n",
    "propogation_test_df.to_json(\"ep129_sample1_electrode_event1.json\", index=False)"
   ]
  }
 ],
 "metadata": {
  "kernelspec": {
   "display_name": "VDS",
   "language": "python",
   "name": "python3"
  },
  "language_info": {
   "codemirror_mode": {
    "name": "ipython",
    "version": 3
   },
   "file_extension": ".py",
   "mimetype": "text/x-python",
   "name": "python",
   "nbconvert_exporter": "python",
   "pygments_lexer": "ipython3",
   "version": "3.10.13"
  }
 },
 "nbformat": 4,
 "nbformat_minor": 2
}
