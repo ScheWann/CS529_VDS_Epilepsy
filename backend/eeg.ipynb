{
 "cells": [
  {
   "cell_type": "code",
   "execution_count": 1,
   "metadata": {},
   "outputs": [],
   "source": [
    "import pandas as pd\n",
    "import numpy as np\n",
    "import matplotlib.pyplot as plt\n",
    "from pyglet.gl import *\n",
    "import pyvista as pv\n",
    "from mpl_toolkits.mplot3d import Axes3D\n",
    "from sklearn.cluster import KMeans\n",
    "from itertools import cycle"
   ]
  },
  {
   "cell_type": "code",
   "execution_count": 2,
   "metadata": {},
   "outputs": [
    {
     "ename": "KeyboardInterrupt",
     "evalue": "",
     "output_type": "error",
     "traceback": [
      "\u001b[0;31m---------------------------------------------------------------------------\u001b[0m",
      "\u001b[0;31mKeyboardInterrupt\u001b[0m                         Traceback (most recent call last)",
      "\u001b[1;32m/Users/siyuanzhao/Documents/GitHub/CS529_VDS_Epilepsy/backend/eeg.ipynb Cell 2\u001b[0m line \u001b[0;36m1\n\u001b[0;32m----> <a href='vscode-notebook-cell:/Users/siyuanzhao/Documents/GitHub/CS529_VDS_Epilepsy/backend/eeg.ipynb#W1sZmlsZQ%3D%3D?line=0'>1</a>\u001b[0m in_df \u001b[39m=\u001b[39m pd\u001b[39m.\u001b[39;49mread_parquet(\n\u001b[1;32m      <a href='vscode-notebook-cell:/Users/siyuanzhao/Documents/GitHub/CS529_VDS_Epilepsy/backend/eeg.ipynb#W1sZmlsZQ%3D%3D?line=1'>2</a>\u001b[0m     \u001b[39m\"\u001b[39;49m\u001b[39m/Users/siyuanzhao/Documents/DATADIR/patients/ep129/sample1/eegdb.parquet\u001b[39;49m\u001b[39m\"\u001b[39;49m,\n\u001b[1;32m      <a href='vscode-notebook-cell:/Users/siyuanzhao/Documents/GitHub/CS529_VDS_Epilepsy/backend/eeg.ipynb#W1sZmlsZQ%3D%3D?line=2'>3</a>\u001b[0m     engine\u001b[39m=\u001b[39;49m\u001b[39m\"\u001b[39;49m\u001b[39mpyarrow\u001b[39;49m\u001b[39m\"\u001b[39;49m,\n\u001b[1;32m      <a href='vscode-notebook-cell:/Users/siyuanzhao/Documents/GitHub/CS529_VDS_Epilepsy/backend/eeg.ipynb#W1sZmlsZQ%3D%3D?line=3'>4</a>\u001b[0m )\n\u001b[1;32m      <a href='vscode-notebook-cell:/Users/siyuanzhao/Documents/GitHub/CS529_VDS_Epilepsy/backend/eeg.ipynb#W1sZmlsZQ%3D%3D?line=5'>6</a>\u001b[0m electrodes \u001b[39m=\u001b[39m (\n\u001b[1;32m      <a href='vscode-notebook-cell:/Users/siyuanzhao/Documents/GitHub/CS529_VDS_Epilepsy/backend/eeg.ipynb#W1sZmlsZQ%3D%3D?line=6'>7</a>\u001b[0m     \u001b[39m26\u001b[39m,\n\u001b[1;32m      <a href='vscode-notebook-cell:/Users/siyuanzhao/Documents/GitHub/CS529_VDS_Epilepsy/backend/eeg.ipynb#W1sZmlsZQ%3D%3D?line=7'>8</a>\u001b[0m     \u001b[39m28\u001b[39m,\n\u001b[0;32m   (...)\u001b[0m\n\u001b[1;32m     <a href='vscode-notebook-cell:/Users/siyuanzhao/Documents/GitHub/CS529_VDS_Epilepsy/backend/eeg.ipynb#W1sZmlsZQ%3D%3D?line=52'>53</a>\u001b[0m     \u001b[39m89\u001b[39m,\n\u001b[1;32m     <a href='vscode-notebook-cell:/Users/siyuanzhao/Documents/GitHub/CS529_VDS_Epilepsy/backend/eeg.ipynb#W1sZmlsZQ%3D%3D?line=53'>54</a>\u001b[0m )\n\u001b[1;32m     <a href='vscode-notebook-cell:/Users/siyuanzhao/Documents/GitHub/CS529_VDS_Epilepsy/backend/eeg.ipynb#W1sZmlsZQ%3D%3D?line=54'>55</a>\u001b[0m eeg_data_df_filtered \u001b[39m=\u001b[39m in_df[\n\u001b[1;32m     <a href='vscode-notebook-cell:/Users/siyuanzhao/Documents/GitHub/CS529_VDS_Epilepsy/backend/eeg.ipynb#W1sZmlsZQ%3D%3D?line=55'>56</a>\u001b[0m     (in_df[\u001b[39m\"\u001b[39m\u001b[39melectrode\u001b[39m\u001b[39m\"\u001b[39m]\u001b[39m.\u001b[39misin(electrodes)) \u001b[39m&\u001b[39m (in_df[\u001b[39m\"\u001b[39m\u001b[39mms\u001b[39m\u001b[39m\"\u001b[39m] \u001b[39m>\u001b[39m\u001b[39m=\u001b[39m \u001b[39m0\u001b[39m) \u001b[39m&\u001b[39m (in_df[\u001b[39m\"\u001b[39m\u001b[39mms\u001b[39m\u001b[39m\"\u001b[39m] \u001b[39m<\u001b[39m\u001b[39m=\u001b[39m \u001b[39m500\u001b[39m)\n\u001b[1;32m     <a href='vscode-notebook-cell:/Users/siyuanzhao/Documents/GitHub/CS529_VDS_Epilepsy/backend/eeg.ipynb#W1sZmlsZQ%3D%3D?line=56'>57</a>\u001b[0m ]\n",
      "File \u001b[0;32m~/anaconda3/envs/VDS/lib/python3.10/site-packages/pandas/io/parquet.py:670\u001b[0m, in \u001b[0;36mread_parquet\u001b[0;34m(path, engine, columns, storage_options, use_nullable_dtypes, dtype_backend, filesystem, filters, **kwargs)\u001b[0m\n\u001b[1;32m    667\u001b[0m     use_nullable_dtypes \u001b[39m=\u001b[39m \u001b[39mFalse\u001b[39;00m\n\u001b[1;32m    668\u001b[0m check_dtype_backend(dtype_backend)\n\u001b[0;32m--> 670\u001b[0m \u001b[39mreturn\u001b[39;00m impl\u001b[39m.\u001b[39;49mread(\n\u001b[1;32m    671\u001b[0m     path,\n\u001b[1;32m    672\u001b[0m     columns\u001b[39m=\u001b[39;49mcolumns,\n\u001b[1;32m    673\u001b[0m     filters\u001b[39m=\u001b[39;49mfilters,\n\u001b[1;32m    674\u001b[0m     storage_options\u001b[39m=\u001b[39;49mstorage_options,\n\u001b[1;32m    675\u001b[0m     use_nullable_dtypes\u001b[39m=\u001b[39;49muse_nullable_dtypes,\n\u001b[1;32m    676\u001b[0m     dtype_backend\u001b[39m=\u001b[39;49mdtype_backend,\n\u001b[1;32m    677\u001b[0m     filesystem\u001b[39m=\u001b[39;49mfilesystem,\n\u001b[1;32m    678\u001b[0m     \u001b[39m*\u001b[39;49m\u001b[39m*\u001b[39;49mkwargs,\n\u001b[1;32m    679\u001b[0m )\n",
      "File \u001b[0;32m~/anaconda3/envs/VDS/lib/python3.10/site-packages/pandas/io/parquet.py:272\u001b[0m, in \u001b[0;36mPyArrowImpl.read\u001b[0;34m(self, path, columns, filters, use_nullable_dtypes, dtype_backend, storage_options, filesystem, **kwargs)\u001b[0m\n\u001b[1;32m    265\u001b[0m path_or_handle, handles, filesystem \u001b[39m=\u001b[39m _get_path_or_handle(\n\u001b[1;32m    266\u001b[0m     path,\n\u001b[1;32m    267\u001b[0m     filesystem,\n\u001b[1;32m    268\u001b[0m     storage_options\u001b[39m=\u001b[39mstorage_options,\n\u001b[1;32m    269\u001b[0m     mode\u001b[39m=\u001b[39m\u001b[39m\"\u001b[39m\u001b[39mrb\u001b[39m\u001b[39m\"\u001b[39m,\n\u001b[1;32m    270\u001b[0m )\n\u001b[1;32m    271\u001b[0m \u001b[39mtry\u001b[39;00m:\n\u001b[0;32m--> 272\u001b[0m     pa_table \u001b[39m=\u001b[39m \u001b[39mself\u001b[39;49m\u001b[39m.\u001b[39;49mapi\u001b[39m.\u001b[39;49mparquet\u001b[39m.\u001b[39;49mread_table(\n\u001b[1;32m    273\u001b[0m         path_or_handle,\n\u001b[1;32m    274\u001b[0m         columns\u001b[39m=\u001b[39;49mcolumns,\n\u001b[1;32m    275\u001b[0m         filesystem\u001b[39m=\u001b[39;49mfilesystem,\n\u001b[1;32m    276\u001b[0m         filters\u001b[39m=\u001b[39;49mfilters,\n\u001b[1;32m    277\u001b[0m         \u001b[39m*\u001b[39;49m\u001b[39m*\u001b[39;49mkwargs,\n\u001b[1;32m    278\u001b[0m     )\n\u001b[1;32m    279\u001b[0m     result \u001b[39m=\u001b[39m pa_table\u001b[39m.\u001b[39mto_pandas(\u001b[39m*\u001b[39m\u001b[39m*\u001b[39mto_pandas_kwargs)\n\u001b[1;32m    281\u001b[0m     \u001b[39mif\u001b[39;00m manager \u001b[39m==\u001b[39m \u001b[39m\"\u001b[39m\u001b[39marray\u001b[39m\u001b[39m\"\u001b[39m:\n",
      "File \u001b[0;32m~/anaconda3/envs/VDS/lib/python3.10/site-packages/pyarrow/parquet/core.py:2956\u001b[0m, in \u001b[0;36mread_table\u001b[0;34m(source, columns, use_threads, metadata, schema, use_pandas_metadata, read_dictionary, memory_map, buffer_size, partitioning, filesystem, filters, use_legacy_dataset, ignore_prefixes, pre_buffer, coerce_int96_timestamp_unit, decryption_properties, thrift_string_size_limit, thrift_container_size_limit)\u001b[0m\n\u001b[1;32m   2949\u001b[0m     \u001b[39mraise\u001b[39;00m \u001b[39mValueError\u001b[39;00m(\n\u001b[1;32m   2950\u001b[0m         \u001b[39m\"\u001b[39m\u001b[39mThe \u001b[39m\u001b[39m'\u001b[39m\u001b[39mmetadata\u001b[39m\u001b[39m'\u001b[39m\u001b[39m keyword is no longer supported with the new \u001b[39m\u001b[39m\"\u001b[39m\n\u001b[1;32m   2951\u001b[0m         \u001b[39m\"\u001b[39m\u001b[39mdatasets-based implementation. Specify \u001b[39m\u001b[39m\"\u001b[39m\n\u001b[1;32m   2952\u001b[0m         \u001b[39m\"\u001b[39m\u001b[39m'\u001b[39m\u001b[39muse_legacy_dataset=True\u001b[39m\u001b[39m'\u001b[39m\u001b[39m to temporarily recover the old \u001b[39m\u001b[39m\"\u001b[39m\n\u001b[1;32m   2953\u001b[0m         \u001b[39m\"\u001b[39m\u001b[39mbehaviour.\u001b[39m\u001b[39m\"\u001b[39m\n\u001b[1;32m   2954\u001b[0m     )\n\u001b[1;32m   2955\u001b[0m \u001b[39mtry\u001b[39;00m:\n\u001b[0;32m-> 2956\u001b[0m     dataset \u001b[39m=\u001b[39m _ParquetDatasetV2(\n\u001b[1;32m   2957\u001b[0m         source,\n\u001b[1;32m   2958\u001b[0m         schema\u001b[39m=\u001b[39;49mschema,\n\u001b[1;32m   2959\u001b[0m         filesystem\u001b[39m=\u001b[39;49mfilesystem,\n\u001b[1;32m   2960\u001b[0m         partitioning\u001b[39m=\u001b[39;49mpartitioning,\n\u001b[1;32m   2961\u001b[0m         memory_map\u001b[39m=\u001b[39;49mmemory_map,\n\u001b[1;32m   2962\u001b[0m         read_dictionary\u001b[39m=\u001b[39;49mread_dictionary,\n\u001b[1;32m   2963\u001b[0m         buffer_size\u001b[39m=\u001b[39;49mbuffer_size,\n\u001b[1;32m   2964\u001b[0m         filters\u001b[39m=\u001b[39;49mfilters,\n\u001b[1;32m   2965\u001b[0m         ignore_prefixes\u001b[39m=\u001b[39;49mignore_prefixes,\n\u001b[1;32m   2966\u001b[0m         pre_buffer\u001b[39m=\u001b[39;49mpre_buffer,\n\u001b[1;32m   2967\u001b[0m         coerce_int96_timestamp_unit\u001b[39m=\u001b[39;49mcoerce_int96_timestamp_unit,\n\u001b[1;32m   2968\u001b[0m         thrift_string_size_limit\u001b[39m=\u001b[39;49mthrift_string_size_limit,\n\u001b[1;32m   2969\u001b[0m         thrift_container_size_limit\u001b[39m=\u001b[39;49mthrift_container_size_limit,\n\u001b[1;32m   2970\u001b[0m     )\n\u001b[1;32m   2971\u001b[0m \u001b[39mexcept\u001b[39;00m \u001b[39mImportError\u001b[39;00m:\n\u001b[1;32m   2972\u001b[0m     \u001b[39m# fall back on ParquetFile for simple cases when pyarrow.dataset\u001b[39;00m\n\u001b[1;32m   2973\u001b[0m     \u001b[39m# module is not available\u001b[39;00m\n\u001b[1;32m   2974\u001b[0m     \u001b[39mif\u001b[39;00m filters \u001b[39mis\u001b[39;00m \u001b[39mnot\u001b[39;00m \u001b[39mNone\u001b[39;00m:\n",
      "File \u001b[0;32m~/anaconda3/envs/VDS/lib/python3.10/site-packages/pyarrow/parquet/core.py:2417\u001b[0m, in \u001b[0;36m_ParquetDatasetV2.__init__\u001b[0;34m(self, path_or_paths, filesystem, filters, partitioning, read_dictionary, buffer_size, memory_map, ignore_prefixes, pre_buffer, coerce_int96_timestamp_unit, schema, decryption_properties, thrift_string_size_limit, thrift_container_size_limit, **kwargs)\u001b[0m\n\u001b[1;32m   2410\u001b[0m \u001b[39mdef\u001b[39;00m \u001b[39m__init__\u001b[39m(\u001b[39mself\u001b[39m, path_or_paths, filesystem\u001b[39m=\u001b[39m\u001b[39mNone\u001b[39;00m, \u001b[39m*\u001b[39m, filters\u001b[39m=\u001b[39m\u001b[39mNone\u001b[39;00m,\n\u001b[1;32m   2411\u001b[0m              partitioning\u001b[39m=\u001b[39m\u001b[39m\"\u001b[39m\u001b[39mhive\u001b[39m\u001b[39m\"\u001b[39m, read_dictionary\u001b[39m=\u001b[39m\u001b[39mNone\u001b[39;00m, buffer_size\u001b[39m=\u001b[39m\u001b[39mNone\u001b[39;00m,\n\u001b[1;32m   2412\u001b[0m              memory_map\u001b[39m=\u001b[39m\u001b[39mFalse\u001b[39;00m, ignore_prefixes\u001b[39m=\u001b[39m\u001b[39mNone\u001b[39;00m, pre_buffer\u001b[39m=\u001b[39m\u001b[39mTrue\u001b[39;00m,\n\u001b[0;32m   (...)\u001b[0m\n\u001b[1;32m   2415\u001b[0m              thrift_container_size_limit\u001b[39m=\u001b[39m\u001b[39mNone\u001b[39;00m,\n\u001b[1;32m   2416\u001b[0m              \u001b[39m*\u001b[39m\u001b[39m*\u001b[39mkwargs):\n\u001b[0;32m-> 2417\u001b[0m     \u001b[39mimport\u001b[39;00m \u001b[39mpyarrow\u001b[39;00m\u001b[39m.\u001b[39;00m\u001b[39mdataset\u001b[39;00m \u001b[39mas\u001b[39;00m \u001b[39mds\u001b[39;00m\n\u001b[1;32m   2419\u001b[0m     \u001b[39m# Raise error for not supported keywords\u001b[39;00m\n\u001b[1;32m   2420\u001b[0m     \u001b[39mfor\u001b[39;00m keyword, default \u001b[39min\u001b[39;00m [\n\u001b[1;32m   2421\u001b[0m             (\u001b[39m\"\u001b[39m\u001b[39mmetadata\u001b[39m\u001b[39m\"\u001b[39m, \u001b[39mNone\u001b[39;00m), (\u001b[39m\"\u001b[39m\u001b[39msplit_row_groups\u001b[39m\u001b[39m\"\u001b[39m, \u001b[39mFalse\u001b[39;00m),\n\u001b[1;32m   2422\u001b[0m             (\u001b[39m\"\u001b[39m\u001b[39mvalidate_schema\u001b[39m\u001b[39m\"\u001b[39m, \u001b[39mTrue\u001b[39;00m), (\u001b[39m\"\u001b[39m\u001b[39mmetadata_nthreads\u001b[39m\u001b[39m\"\u001b[39m, \u001b[39mNone\u001b[39;00m)]:\n",
      "File \u001b[0;32m~/anaconda3/envs/VDS/lib/python3.10/site-packages/pyarrow/dataset.py:85\u001b[0m\n\u001b[1;32m     79\u001b[0m _parquet_msg \u001b[39m=\u001b[39m (\n\u001b[1;32m     80\u001b[0m     \u001b[39m\"\u001b[39m\u001b[39mThe pyarrow installation is not built with support for the Parquet file \u001b[39m\u001b[39m\"\u001b[39m\n\u001b[1;32m     81\u001b[0m     \u001b[39m\"\u001b[39m\u001b[39mformat.\u001b[39m\u001b[39m\"\u001b[39m\n\u001b[1;32m     82\u001b[0m )\n\u001b[1;32m     84\u001b[0m \u001b[39mtry\u001b[39;00m:\n\u001b[0;32m---> 85\u001b[0m     \u001b[39mfrom\u001b[39;00m \u001b[39mpyarrow\u001b[39;00m\u001b[39m.\u001b[39;00m\u001b[39m_dataset_parquet\u001b[39;00m \u001b[39mimport\u001b[39;00m (  \u001b[39m# noqa\u001b[39;00m\n\u001b[1;32m     86\u001b[0m         ParquetDatasetFactory,\n\u001b[1;32m     87\u001b[0m         ParquetFactoryOptions,\n\u001b[1;32m     88\u001b[0m         ParquetFileFormat,\n\u001b[1;32m     89\u001b[0m         ParquetFileFragment,\n\u001b[1;32m     90\u001b[0m         ParquetFileWriteOptions,\n\u001b[1;32m     91\u001b[0m         ParquetFragmentScanOptions,\n\u001b[1;32m     92\u001b[0m         ParquetReadOptions,\n\u001b[1;32m     93\u001b[0m         RowGroupInfo,\n\u001b[1;32m     94\u001b[0m     )\n\u001b[1;32m     95\u001b[0m     _parquet_available \u001b[39m=\u001b[39m \u001b[39mTrue\u001b[39;00m\n\u001b[1;32m     96\u001b[0m \u001b[39mexcept\u001b[39;00m \u001b[39mImportError\u001b[39;00m:\n",
      "File \u001b[0;32m~/anaconda3/envs/VDS/lib/python3.10/site-packages/pyarrow/_dataset_parquet.pyx:57\u001b[0m, in \u001b[0;36minit pyarrow._dataset_parquet\u001b[0;34m()\u001b[0m\n",
      "File \u001b[0;32m<frozen importlib._bootstrap>:404\u001b[0m, in \u001b[0;36mparent\u001b[0;34m(self)\u001b[0m\n",
      "\u001b[0;31mKeyboardInterrupt\u001b[0m: "
     ]
    }
   ],
   "source": [
    "in_df = pd.read_parquet(\n",
    "    \"/Users/siyuanzhao/Documents/DATADIR/patients/ep129/sample1/eegdb.parquet\",\n",
    "    engine=\"pyarrow\",\n",
    ")\n",
    "\n",
    "electrodes = (\n",
    "    26,\n",
    "    28,\n",
    "    36,\n",
    "    20,\n",
    "    32,\n",
    "    21,\n",
    "    22,\n",
    "    40,\n",
    "    41,\n",
    "    54,\n",
    "    19,\n",
    "    31,\n",
    "    39,\n",
    "    47,\n",
    "    48,\n",
    "    52,\n",
    "    56,\n",
    "    27,\n",
    "    29,\n",
    "    34,\n",
    "    35,\n",
    "    43,\n",
    "    49,\n",
    "    50,\n",
    "    53,\n",
    "    18,\n",
    "    33,\n",
    "    44,\n",
    "    30,\n",
    "    38,\n",
    "    51,\n",
    "    37,\n",
    "    108,\n",
    "    109,\n",
    "    107,\n",
    "    102,\n",
    "    112,\n",
    "    55,\n",
    "    45,\n",
    "    23,\n",
    "    103,\n",
    "    73,\n",
    "    74,\n",
    "    76,\n",
    "    75,\n",
    "    84,\n",
    "    89,\n",
    ")\n",
    "eeg_data_df_filtered = in_df[\n",
    "    (in_df[\"electrode\"].isin(electrodes)) & (in_df[\"ms\"] >= 0) & (in_df[\"ms\"] <= 500)\n",
    "]\n",
    "output = {}\n",
    "for electode in electrodes:\n",
    "    output[electode] = eeg_data_df_filtered.loc[\n",
    "        eeg_data_df_filtered.electrode == electode\n",
    "    ].value.values.tolist()\n",
    "\n",
    "with open(\"ep129_sample1_0_500_egg.json\", \"w\") as f:\n",
    "    json.dump(output, f)"
   ]
  },
  {
   "cell_type": "code",
   "execution_count": null,
   "metadata": {},
   "outputs": [],
   "source": [
    "in_df = pd.read_parquet(\n",
    "    \"/Users/siyuanzhao/Documents/DATADIR/patients/ep187/sample1/eegdb.parquet\",\n",
    "    engine=\"pyarrow\",\n",
    ")\n",
    "\n",
    "electrodes = (95,60,61,59,72,70,79,71,78,87,58,63,62)\n",
    "eeg_data_df_filtered = in_df[\n",
    "    (in_df[\"electrode\"].isin(electrodes))\n",
    "    & (in_df[\"ms\"] >= 14000)\n",
    "    & (in_df[\"ms\"] <= 14500)\n",
    "]\n",
    "output = {}\n",
    "for electode in electrodes:\n",
    "    output[electode] = eeg_data_df_filtered.loc[\n",
    "        eeg_data_df_filtered.electrode == electode\n",
    "    ].value.values.tolist()\n",
    "\n",
    "with open('ep187_sample1_14000_14500_egg.json', 'w') as f:\n",
    "    json.dump(output, f)"
   ]
  },
  {
   "cell_type": "code",
   "execution_count": null,
   "metadata": {},
   "outputs": [],
   "source": [
    "# ep129 event 1\n",
    "\n",
    "propogation_df = pd.read_json(\n",
    "    \"/Users/siyuanzhao/Documents/DATADIR/patients/ep129/sample1/ep129_sorted_data.json\"\n",
    ")\n",
    "propogation_test_df = propogation_df[propogation_df[\"eventIndex\"] == 1]\n",
    "# save ep129, sample1, event 1 electrode propagation json to local\n",
    "propogation_test_df.to_json(\"ep129_sample1_electrode_event1.json\", index=False)"
   ]
  },
  {
   "cell_type": "code",
   "execution_count": null,
   "metadata": {},
   "outputs": [],
   "source": [
    "# ep187 event 45\n",
    "\n",
    "propogation_df = pd.read_json(\n",
    "    \"/Users/siyuanzhao/Documents/DATADIR/patients/ep187/sample1/ep187_sorted_data.json\"\n",
    ")\n",
    "propogation_test_df = propogation_df[propogation_df[\"eventIndex\"] == 45]\n",
    "# save ep187, sample1, event 45 electrode propagation json to local\n",
    "propogation_test_df.to_json(\"ep187_sample1_electrode_event45.json\", index=False)"
   ]
  }
 ],
 "metadata": {
  "kernelspec": {
   "display_name": "VDS",
   "language": "python",
   "name": "python3"
  },
  "language_info": {
   "codemirror_mode": {
    "name": "ipython",
    "version": 3
   },
   "file_extension": ".py",
   "mimetype": "text/x-python",
   "name": "python",
   "nbconvert_exporter": "python",
   "pygments_lexer": "ipython3",
   "version": "3.11.6"
  }
 },
 "nbformat": 4,
 "nbformat_minor": 2
}
