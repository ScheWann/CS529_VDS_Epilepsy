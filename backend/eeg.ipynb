{
 "cells": [
  {
   "cell_type": "code",
   "execution_count": 1,
   "metadata": {},
   "outputs": [],
   "source": [
    "import pandas as pd\n",
    "import numpy as np\n",
    "import json"
   ]
  },
  {
   "cell_type": "code",
   "execution_count": 18,
   "metadata": {},
   "outputs": [],
   "source": [
    "in_df = pd.read_parquet(\n",
    "    \"/Users/siyuanzhao/Documents/DATADIR/patients/ep129/sample1/eegdb.parquet\",\n",
    "    engine=\"pyarrow\",\n",
    ")\n",
    "\n",
    "electrodes = (\n",
    "    26,\n",
    "    28,\n",
    "    36,\n",
    "    20,\n",
    "    32,\n",
    "    21,\n",
    "    22,\n",
    "    40,\n",
    "    41,\n",
    "    54,\n",
    "    19,\n",
    "    31,\n",
    "    39,\n",
    "    47,\n",
    "    48,\n",
    "    52,\n",
    "    56,\n",
    "    27,\n",
    "    29,\n",
    "    34,\n",
    "    35,\n",
    "    43,\n",
    "    49,\n",
    "    50,\n",
    "    53,\n",
    "    18,\n",
    "    33,\n",
    "    44,\n",
    "    30,\n",
    "    38,\n",
    "    51,\n",
    "    37,\n",
    "    108,\n",
    "    109,\n",
    "    107,\n",
    "    102,\n",
    "    112,\n",
    "    55,\n",
    "    45,\n",
    "    23,\n",
    "    103,\n",
    "    73,\n",
    "    74,\n",
    "    76,\n",
    "    75,\n",
    "    84,\n",
    "    89,\n",
    ")\n",
    "eeg_data_df_filtered = in_df[\n",
    "    (in_df[\"electrode\"].isin(electrodes)) & (in_df[\"ms\"] >= 0) & (in_df[\"ms\"] <= 500)\n",
    "]\n",
    "output = {}\n",
    "for electode in electrodes:\n",
    "    output[electode] = eeg_data_df_filtered.loc[\n",
    "        eeg_data_df_filtered.electrode == electode\n",
    "    ].value.values.tolist()\n",
    "\n",
    "with open(\"ep129_sample1_0_500_egg.json\", \"w\") as f:\n",
    "    json.dump(output, f)"
   ]
  },
  {
   "cell_type": "code",
   "execution_count": 2,
   "metadata": {},
   "outputs": [],
   "source": [
    "in_df = pd.read_parquet(\n",
    "    \"/Users/siyuanzhao/Documents/DATADIR/patients/ep187/sample1/eegdb.parquet\",\n",
    "    engine=\"pyarrow\",\n",
    ")\n",
    "\n",
    "electrodes = (95,60,61,59,72,70,79,71,78,87,58,63,62)\n",
    "eeg_data_df_filtered = in_df[\n",
    "    (in_df[\"electrode\"].isin(electrodes))\n",
    "    & (in_df[\"ms\"] >= 14000)\n",
    "    & (in_df[\"ms\"] <= 14500)\n",
    "]\n",
    "output = {}\n",
    "for electode in electrodes:\n",
    "    output[electode] = eeg_data_df_filtered.loc[\n",
    "        eeg_data_df_filtered.electrode == electode\n",
    "    ].value.values.tolist()\n",
    "\n",
    "with open('ep187_sample1_14000_14500_egg.json', 'w') as f:\n",
    "    json.dump(output, f)"
   ]
  },
  {
   "cell_type": "code",
   "execution_count": 9,
   "metadata": {},
   "outputs": [],
   "source": [
    "propogation_df = pd.read_json(\n",
    "    \"/Users/siyuanzhao/Documents/DATADIR/patients/ep129/sample1/ep129_sorted_data.json\"\n",
    ")\n",
    "propogation_test_df = propogation_df[propogation_df[\"eventIndex\"] == 1]\n",
    "# save ep129, sample1, event 1 electrode propagation json to local\n",
    "propogation_test_df.to_json(\"ep129_sample1_electrode_event1.json\", index=False)"
   ]
  },
  {
   "cell_type": "code",
   "execution_count": 3,
   "metadata": {},
   "outputs": [],
   "source": [
    "propogation_df = pd.read_json(\n",
    "    \"/Users/siyuanzhao/Documents/DATADIR/patients/ep187/sample1/ep187_sorted_data.json\"\n",
    ")\n",
    "propogation_test_df = propogation_df[propogation_df[\"eventIndex\"] == 45]\n",
    "# save ep129, sample1, event 1 electrode propagation json to local\n",
    "propogation_test_df.to_json(\"ep187_sample1_electrode_event45.json\", index=False)"
   ]
  }
 ],
 "metadata": {
  "kernelspec": {
   "display_name": "VDS",
   "language": "python",
   "name": "python3"
  },
  "language_info": {
   "codemirror_mode": {
    "name": "ipython",
    "version": 3
   },
   "file_extension": ".py",
   "mimetype": "text/x-python",
   "name": "python",
   "nbconvert_exporter": "python",
   "pygments_lexer": "ipython3",
   "version": "3.10.13"
  }
 },
 "nbformat": 4,
 "nbformat_minor": 2
}
